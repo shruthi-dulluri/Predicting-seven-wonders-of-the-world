{
  "nbformat": 4,
  "nbformat_minor": 0,
  "metadata": {
    "colab": {
      "provenance": [],
      "gpuType": "T4"
    },
    "kernelspec": {
      "name": "python3",
      "display_name": "Python 3"
    },
    "language_info": {
      "name": "python"
    },
    "accelerator": "GPU"
  },
  "cells": [
    {
      "cell_type": "code",
      "execution_count": 1,
      "metadata": {
        "colab": {
          "base_uri": "https://localhost:8080/"
        },
        "id": "NOFczZEHWBLN",
        "outputId": "9778f168-5b86-4d22-f7ae-7a7fc6a669c6"
      },
      "outputs": [
        {
          "output_type": "stream",
          "name": "stdout",
          "text": [
            "Collecting opendatasets\n",
            "  Downloading opendatasets-0.1.22-py3-none-any.whl (15 kB)\n",
            "Requirement already satisfied: tqdm in /usr/local/lib/python3.10/dist-packages (from opendatasets) (4.66.1)\n",
            "Requirement already satisfied: kaggle in /usr/local/lib/python3.10/dist-packages (from opendatasets) (1.5.16)\n",
            "Requirement already satisfied: click in /usr/local/lib/python3.10/dist-packages (from opendatasets) (8.1.7)\n",
            "Requirement already satisfied: six>=1.10 in /usr/local/lib/python3.10/dist-packages (from kaggle->opendatasets) (1.16.0)\n",
            "Requirement already satisfied: certifi in /usr/local/lib/python3.10/dist-packages (from kaggle->opendatasets) (2023.11.17)\n",
            "Requirement already satisfied: python-dateutil in /usr/local/lib/python3.10/dist-packages (from kaggle->opendatasets) (2.8.2)\n",
            "Requirement already satisfied: requests in /usr/local/lib/python3.10/dist-packages (from kaggle->opendatasets) (2.31.0)\n",
            "Requirement already satisfied: python-slugify in /usr/local/lib/python3.10/dist-packages (from kaggle->opendatasets) (8.0.1)\n",
            "Requirement already satisfied: urllib3 in /usr/local/lib/python3.10/dist-packages (from kaggle->opendatasets) (2.0.7)\n",
            "Requirement already satisfied: bleach in /usr/local/lib/python3.10/dist-packages (from kaggle->opendatasets) (6.1.0)\n",
            "Requirement already satisfied: webencodings in /usr/local/lib/python3.10/dist-packages (from bleach->kaggle->opendatasets) (0.5.1)\n",
            "Requirement already satisfied: text-unidecode>=1.3 in /usr/local/lib/python3.10/dist-packages (from python-slugify->kaggle->opendatasets) (1.3)\n",
            "Requirement already satisfied: charset-normalizer<4,>=2 in /usr/local/lib/python3.10/dist-packages (from requests->kaggle->opendatasets) (3.3.2)\n",
            "Requirement already satisfied: idna<4,>=2.5 in /usr/local/lib/python3.10/dist-packages (from requests->kaggle->opendatasets) (3.6)\n",
            "Installing collected packages: opendatasets\n",
            "Successfully installed opendatasets-0.1.22\n"
          ]
        }
      ],
      "source": [
        "!pip install opendatasets"
      ]
    },
    {
      "cell_type": "code",
      "source": [
        "import opendatasets as od"
      ],
      "metadata": {
        "id": "kMr8AgNGWQrd"
      },
      "execution_count": 2,
      "outputs": []
    },
    {
      "cell_type": "code",
      "source": [
        "od.download(\"https://www.kaggle.com/datasets/balabaskar/wonders-of-the-world-image-classification?select=Wonders+of+World\")"
      ],
      "metadata": {
        "colab": {
          "base_uri": "https://localhost:8080/"
        },
        "id": "r5ydRFLVWYuF",
        "outputId": "7b130248-7e1f-410e-bce8-88fa2848a7e2"
      },
      "execution_count": 3,
      "outputs": [
        {
          "output_type": "stream",
          "name": "stdout",
          "text": [
            "Please provide your Kaggle credentials to download this dataset. Learn more: http://bit.ly/kaggle-creds\n",
            "Your Kaggle username: shruthidulluri\n",
            "Your Kaggle Key: ··········\n",
            "Downloading wonders-of-the-world-image-classification.zip to ./wonders-of-the-world-image-classification\n"
          ]
        },
        {
          "output_type": "stream",
          "name": "stderr",
          "text": [
            "100%|██████████| 432M/432M [00:05<00:00, 81.0MB/s]\n"
          ]
        },
        {
          "output_type": "stream",
          "name": "stdout",
          "text": [
            "\n"
          ]
        }
      ]
    },
    {
      "cell_type": "code",
      "source": [
        "import pandas as pd\n",
        "import numpy as np\n",
        "import matplotlib.pyplot as plt\n",
        "import seaborn as sns\n",
        "import os"
      ],
      "metadata": {
        "id": "LU_4laU9XE_E"
      },
      "execution_count": 5,
      "outputs": []
    },
    {
      "cell_type": "code",
      "source": [
        "df=pd.read_csv('/content/wonders-of-the-world-image-classification/wonders_of_world_images.csv')"
      ],
      "metadata": {
        "id": "Uq0w7SPCXRpJ"
      },
      "execution_count": 6,
      "outputs": []
    },
    {
      "cell_type": "code",
      "source": [
        "df.head()"
      ],
      "metadata": {
        "colab": {
          "base_uri": "https://localhost:8080/",
          "height": 206
        },
        "id": "C0db3DU5XaZP",
        "outputId": "4b60ce9e-ce34-423a-efcd-05b62af21635"
      },
      "execution_count": 7,
      "outputs": [
        {
          "output_type": "execute_result",
          "data": {
            "text/plain": [
              "    folder_name        filename\n",
              "0  burj_khalifa  0005487c0b.jpg\n",
              "1  burj_khalifa  00d4a42317.jpg\n",
              "2  burj_khalifa  01bbf1f63c.jpg\n",
              "3  burj_khalifa  01f75e9545.jpg\n",
              "4  burj_khalifa  020f2c752c.jpg"
            ],
            "text/html": [
              "\n",
              "  <div id=\"df-0b699a87-2220-45c6-bf85-abeb2c237820\" class=\"colab-df-container\">\n",
              "    <div>\n",
              "<style scoped>\n",
              "    .dataframe tbody tr th:only-of-type {\n",
              "        vertical-align: middle;\n",
              "    }\n",
              "\n",
              "    .dataframe tbody tr th {\n",
              "        vertical-align: top;\n",
              "    }\n",
              "\n",
              "    .dataframe thead th {\n",
              "        text-align: right;\n",
              "    }\n",
              "</style>\n",
              "<table border=\"1\" class=\"dataframe\">\n",
              "  <thead>\n",
              "    <tr style=\"text-align: right;\">\n",
              "      <th></th>\n",
              "      <th>folder_name</th>\n",
              "      <th>filename</th>\n",
              "    </tr>\n",
              "  </thead>\n",
              "  <tbody>\n",
              "    <tr>\n",
              "      <th>0</th>\n",
              "      <td>burj_khalifa</td>\n",
              "      <td>0005487c0b.jpg</td>\n",
              "    </tr>\n",
              "    <tr>\n",
              "      <th>1</th>\n",
              "      <td>burj_khalifa</td>\n",
              "      <td>00d4a42317.jpg</td>\n",
              "    </tr>\n",
              "    <tr>\n",
              "      <th>2</th>\n",
              "      <td>burj_khalifa</td>\n",
              "      <td>01bbf1f63c.jpg</td>\n",
              "    </tr>\n",
              "    <tr>\n",
              "      <th>3</th>\n",
              "      <td>burj_khalifa</td>\n",
              "      <td>01f75e9545.jpg</td>\n",
              "    </tr>\n",
              "    <tr>\n",
              "      <th>4</th>\n",
              "      <td>burj_khalifa</td>\n",
              "      <td>020f2c752c.jpg</td>\n",
              "    </tr>\n",
              "  </tbody>\n",
              "</table>\n",
              "</div>\n",
              "    <div class=\"colab-df-buttons\">\n",
              "\n",
              "  <div class=\"colab-df-container\">\n",
              "    <button class=\"colab-df-convert\" onclick=\"convertToInteractive('df-0b699a87-2220-45c6-bf85-abeb2c237820')\"\n",
              "            title=\"Convert this dataframe to an interactive table.\"\n",
              "            style=\"display:none;\">\n",
              "\n",
              "  <svg xmlns=\"http://www.w3.org/2000/svg\" height=\"24px\" viewBox=\"0 -960 960 960\">\n",
              "    <path d=\"M120-120v-720h720v720H120Zm60-500h600v-160H180v160Zm220 220h160v-160H400v160Zm0 220h160v-160H400v160ZM180-400h160v-160H180v160Zm440 0h160v-160H620v160ZM180-180h160v-160H180v160Zm440 0h160v-160H620v160Z\"/>\n",
              "  </svg>\n",
              "    </button>\n",
              "\n",
              "  <style>\n",
              "    .colab-df-container {\n",
              "      display:flex;\n",
              "      gap: 12px;\n",
              "    }\n",
              "\n",
              "    .colab-df-convert {\n",
              "      background-color: #E8F0FE;\n",
              "      border: none;\n",
              "      border-radius: 50%;\n",
              "      cursor: pointer;\n",
              "      display: none;\n",
              "      fill: #1967D2;\n",
              "      height: 32px;\n",
              "      padding: 0 0 0 0;\n",
              "      width: 32px;\n",
              "    }\n",
              "\n",
              "    .colab-df-convert:hover {\n",
              "      background-color: #E2EBFA;\n",
              "      box-shadow: 0px 1px 2px rgba(60, 64, 67, 0.3), 0px 1px 3px 1px rgba(60, 64, 67, 0.15);\n",
              "      fill: #174EA6;\n",
              "    }\n",
              "\n",
              "    .colab-df-buttons div {\n",
              "      margin-bottom: 4px;\n",
              "    }\n",
              "\n",
              "    [theme=dark] .colab-df-convert {\n",
              "      background-color: #3B4455;\n",
              "      fill: #D2E3FC;\n",
              "    }\n",
              "\n",
              "    [theme=dark] .colab-df-convert:hover {\n",
              "      background-color: #434B5C;\n",
              "      box-shadow: 0px 1px 3px 1px rgba(0, 0, 0, 0.15);\n",
              "      filter: drop-shadow(0px 1px 2px rgba(0, 0, 0, 0.3));\n",
              "      fill: #FFFFFF;\n",
              "    }\n",
              "  </style>\n",
              "\n",
              "    <script>\n",
              "      const buttonEl =\n",
              "        document.querySelector('#df-0b699a87-2220-45c6-bf85-abeb2c237820 button.colab-df-convert');\n",
              "      buttonEl.style.display =\n",
              "        google.colab.kernel.accessAllowed ? 'block' : 'none';\n",
              "\n",
              "      async function convertToInteractive(key) {\n",
              "        const element = document.querySelector('#df-0b699a87-2220-45c6-bf85-abeb2c237820');\n",
              "        const dataTable =\n",
              "          await google.colab.kernel.invokeFunction('convertToInteractive',\n",
              "                                                    [key], {});\n",
              "        if (!dataTable) return;\n",
              "\n",
              "        const docLinkHtml = 'Like what you see? Visit the ' +\n",
              "          '<a target=\"_blank\" href=https://colab.research.google.com/notebooks/data_table.ipynb>data table notebook</a>'\n",
              "          + ' to learn more about interactive tables.';\n",
              "        element.innerHTML = '';\n",
              "        dataTable['output_type'] = 'display_data';\n",
              "        await google.colab.output.renderOutput(dataTable, element);\n",
              "        const docLink = document.createElement('div');\n",
              "        docLink.innerHTML = docLinkHtml;\n",
              "        element.appendChild(docLink);\n",
              "      }\n",
              "    </script>\n",
              "  </div>\n",
              "\n",
              "\n",
              "<div id=\"df-a14736ab-bcb5-4b7c-bd3f-1a4220997b0a\">\n",
              "  <button class=\"colab-df-quickchart\" onclick=\"quickchart('df-a14736ab-bcb5-4b7c-bd3f-1a4220997b0a')\"\n",
              "            title=\"Suggest charts\"\n",
              "            style=\"display:none;\">\n",
              "\n",
              "<svg xmlns=\"http://www.w3.org/2000/svg\" height=\"24px\"viewBox=\"0 0 24 24\"\n",
              "     width=\"24px\">\n",
              "    <g>\n",
              "        <path d=\"M19 3H5c-1.1 0-2 .9-2 2v14c0 1.1.9 2 2 2h14c1.1 0 2-.9 2-2V5c0-1.1-.9-2-2-2zM9 17H7v-7h2v7zm4 0h-2V7h2v10zm4 0h-2v-4h2v4z\"/>\n",
              "    </g>\n",
              "</svg>\n",
              "  </button>\n",
              "\n",
              "<style>\n",
              "  .colab-df-quickchart {\n",
              "      --bg-color: #E8F0FE;\n",
              "      --fill-color: #1967D2;\n",
              "      --hover-bg-color: #E2EBFA;\n",
              "      --hover-fill-color: #174EA6;\n",
              "      --disabled-fill-color: #AAA;\n",
              "      --disabled-bg-color: #DDD;\n",
              "  }\n",
              "\n",
              "  [theme=dark] .colab-df-quickchart {\n",
              "      --bg-color: #3B4455;\n",
              "      --fill-color: #D2E3FC;\n",
              "      --hover-bg-color: #434B5C;\n",
              "      --hover-fill-color: #FFFFFF;\n",
              "      --disabled-bg-color: #3B4455;\n",
              "      --disabled-fill-color: #666;\n",
              "  }\n",
              "\n",
              "  .colab-df-quickchart {\n",
              "    background-color: var(--bg-color);\n",
              "    border: none;\n",
              "    border-radius: 50%;\n",
              "    cursor: pointer;\n",
              "    display: none;\n",
              "    fill: var(--fill-color);\n",
              "    height: 32px;\n",
              "    padding: 0;\n",
              "    width: 32px;\n",
              "  }\n",
              "\n",
              "  .colab-df-quickchart:hover {\n",
              "    background-color: var(--hover-bg-color);\n",
              "    box-shadow: 0 1px 2px rgba(60, 64, 67, 0.3), 0 1px 3px 1px rgba(60, 64, 67, 0.15);\n",
              "    fill: var(--button-hover-fill-color);\n",
              "  }\n",
              "\n",
              "  .colab-df-quickchart-complete:disabled,\n",
              "  .colab-df-quickchart-complete:disabled:hover {\n",
              "    background-color: var(--disabled-bg-color);\n",
              "    fill: var(--disabled-fill-color);\n",
              "    box-shadow: none;\n",
              "  }\n",
              "\n",
              "  .colab-df-spinner {\n",
              "    border: 2px solid var(--fill-color);\n",
              "    border-color: transparent;\n",
              "    border-bottom-color: var(--fill-color);\n",
              "    animation:\n",
              "      spin 1s steps(1) infinite;\n",
              "  }\n",
              "\n",
              "  @keyframes spin {\n",
              "    0% {\n",
              "      border-color: transparent;\n",
              "      border-bottom-color: var(--fill-color);\n",
              "      border-left-color: var(--fill-color);\n",
              "    }\n",
              "    20% {\n",
              "      border-color: transparent;\n",
              "      border-left-color: var(--fill-color);\n",
              "      border-top-color: var(--fill-color);\n",
              "    }\n",
              "    30% {\n",
              "      border-color: transparent;\n",
              "      border-left-color: var(--fill-color);\n",
              "      border-top-color: var(--fill-color);\n",
              "      border-right-color: var(--fill-color);\n",
              "    }\n",
              "    40% {\n",
              "      border-color: transparent;\n",
              "      border-right-color: var(--fill-color);\n",
              "      border-top-color: var(--fill-color);\n",
              "    }\n",
              "    60% {\n",
              "      border-color: transparent;\n",
              "      border-right-color: var(--fill-color);\n",
              "    }\n",
              "    80% {\n",
              "      border-color: transparent;\n",
              "      border-right-color: var(--fill-color);\n",
              "      border-bottom-color: var(--fill-color);\n",
              "    }\n",
              "    90% {\n",
              "      border-color: transparent;\n",
              "      border-bottom-color: var(--fill-color);\n",
              "    }\n",
              "  }\n",
              "</style>\n",
              "\n",
              "  <script>\n",
              "    async function quickchart(key) {\n",
              "      const quickchartButtonEl =\n",
              "        document.querySelector('#' + key + ' button');\n",
              "      quickchartButtonEl.disabled = true;  // To prevent multiple clicks.\n",
              "      quickchartButtonEl.classList.add('colab-df-spinner');\n",
              "      try {\n",
              "        const charts = await google.colab.kernel.invokeFunction(\n",
              "            'suggestCharts', [key], {});\n",
              "      } catch (error) {\n",
              "        console.error('Error during call to suggestCharts:', error);\n",
              "      }\n",
              "      quickchartButtonEl.classList.remove('colab-df-spinner');\n",
              "      quickchartButtonEl.classList.add('colab-df-quickchart-complete');\n",
              "    }\n",
              "    (() => {\n",
              "      let quickchartButtonEl =\n",
              "        document.querySelector('#df-a14736ab-bcb5-4b7c-bd3f-1a4220997b0a button');\n",
              "      quickchartButtonEl.style.display =\n",
              "        google.colab.kernel.accessAllowed ? 'block' : 'none';\n",
              "    })();\n",
              "  </script>\n",
              "</div>\n",
              "\n",
              "    </div>\n",
              "  </div>\n"
            ]
          },
          "metadata": {},
          "execution_count": 7
        }
      ]
    },
    {
      "cell_type": "code",
      "source": [
        "burj_khalifa=os.listdir('/content/wonders-of-the-world-image-classification/Wonders of World/Wonders of World/burj_khalifa')\n",
        "chichen_itza=os.listdir('/content/wonders-of-the-world-image-classification/Wonders of World/Wonders of World/chichen_itza')\n",
        "chirist_the_reedemer=os.listdir('/content/wonders-of-the-world-image-classification/Wonders of World/Wonders of World/christ_the_reedemer')\n",
        "eiffle_towwer=os.listdir('/content/wonders-of-the-world-image-classification/Wonders of World/Wonders of World/eiffel_tower')\n",
        "great_wall_of_china=os.listdir('/content/wonders-of-the-world-image-classification/Wonders of World/Wonders of World/great_wall_of_china')\n",
        "manchu_pichu=os.listdir('/content/wonders-of-the-world-image-classification/Wonders of World/Wonders of World/machu_pichu')\n",
        "pyramids_of_giza=os.listdir('/content/wonders-of-the-world-image-classification/Wonders of World/Wonders of World/pyramids_of_giza')\n",
        "roman_colosseum=os.listdir('/content/wonders-of-the-world-image-classification/Wonders of World/Wonders of World/roman_colosseum')\n",
        "statue_of_liberty=os.listdir('/content/wonders-of-the-world-image-classification/Wonders of World/Wonders of World/statue_of_liberty')\n",
        "stonehenge=os.listdir('/content/wonders-of-the-world-image-classification/Wonders of World/Wonders of World/stonehenge')\n",
        "taj_mahal=os.listdir('/content/wonders-of-the-world-image-classification/Wonders of World/Wonders of World/taj_mahal')\n",
        "venezula_angle_falls=os.listdir('/content/wonders-of-the-world-image-classification/Wonders of World/Wonders of World/venezuela_angel_falls')\n"
      ],
      "metadata": {
        "id": "VX5uivD-WJIc"
      },
      "execution_count": 8,
      "outputs": []
    },
    {
      "cell_type": "code",
      "source": [],
      "metadata": {
        "id": "TEnCqUUHbwS0"
      },
      "execution_count": 8,
      "outputs": []
    },
    {
      "cell_type": "code",
      "source": [
        "burj_khalifa_folder_path='/content/wonders-of-the-world-image-classification/Wonders of World/Wonders of World/burj_khalifa'\n",
        "chichen_itza_folder_path='/content/wonders-of-the-world-image-classification/Wonders of World/Wonders of World/chichen_itza'\n",
        "chirist_the_reedemer_folder_path='/content/wonders-of-the-world-image-classification/Wonders of World/Wonders of World/christ_the_reedemer'\n",
        "eiffle_towwer_folder_path='/content/wonders-of-the-world-image-classification/Wonders of World/Wonders of World/eiffel_tower'\n",
        "great_wall_of_china_folder_path='/content/wonders-of-the-world-image-classification/Wonders of World/Wonders of World/great_wall_of_china'\n",
        "manchu_pichu_folder_path='/content/wonders-of-the-world-image-classification/Wonders of World/Wonders of World/machu_pichu'\n",
        "pyramids_of_giza_folder_path='/content/wonders-of-the-world-image-classification/Wonders of World/Wonders of World/pyramids_of_giza'\n",
        "roman_colosseum_folder_path='/content/wonders-of-the-world-image-classification/Wonders of World/Wonders of World/roman_colosseum'\n",
        "statue_of_liberty_folder_path='/content/wonders-of-the-world-image-classification/Wonders of World/Wonders of World/statue_of_liberty'\n",
        "stonehenge_folder_path='/content/wonders-of-the-world-image-classification/Wonders of World/Wonders of World/stonehenge'\n",
        "taj_mahal_folder_path='/content/wonders-of-the-world-image-classification/Wonders of World/Wonders of World/taj_mahal'\n",
        "venezula_angle_falls_folder_path='/content/wonders-of-the-world-image-classification/Wonders of World/Wonders of World/venezuela_angel_falls'\n"
      ],
      "metadata": {
        "id": "lNUAE6jib1v0"
      },
      "execution_count": 9,
      "outputs": []
    },
    {
      "cell_type": "code",
      "source": [
        "import cv2\n",
        "images=[]\n",
        "labels=[]\n",
        "for image in burj_khalifa:\n",
        "  img_path=os.path.join(burj_khalifa_folder_path,image)\n",
        "  img=cv2.imread(img_path)\n",
        "  img=cv2.resize(img,(75,75))\n",
        "  img=cv2.cvtColor(img,cv2.COLOR_BGR2RGB)\n",
        "  images.append(img)\n",
        "  labels.append(0)\n",
        "for image in chichen_itza:\n",
        "  img_path=os.path.join(chichen_itza_folder_path,image)\n",
        "  img=cv2.imread(img_path)\n",
        "  img=cv2.resize(img,(75,75))\n",
        "  img=cv2.cvtColor(img,cv2.COLOR_BGR2RGB)\n",
        "  images.append(img)\n",
        "  labels.append(1)\n",
        "for image in chirist_the_reedemer:\n",
        "  img_path=os.path.join(chirist_the_reedemer_folder_path,image)\n",
        "  img=cv2.imread(img_path)\n",
        "  img=cv2.resize(img,(75,75))\n",
        "  img=cv2.cvtColor(img,cv2.COLOR_BGR2RGB)\n",
        "  images.append(img)\n",
        "  labels.append(2)\n",
        "for image in eiffle_towwer:\n",
        "  img_path=os.path.join(eiffle_towwer_folder_path,image)\n",
        "  img=cv2.imread(img_path)\n",
        "  img=cv2.resize(img,(75,75))\n",
        "  img=cv2.cvtColor(img,cv2.COLOR_BGR2RGB)\n",
        "  images.append(img)\n",
        "  labels.append(3)\n",
        "for image in great_wall_of_china:\n",
        "  img_path=os.path.join(great_wall_of_china_folder_path,image)\n",
        "  img=cv2.imread(img_path)\n",
        "  img=cv2.resize(img,(75,75))\n",
        "  img=cv2.cvtColor(img,cv2.COLOR_BGR2RGB)\n",
        "  images.append(img)\n",
        "  labels.append(4)\n",
        "for image in manchu_pichu:\n",
        "  img_path=os.path.join(manchu_pichu_folder_path,image)\n",
        "  img=cv2.imread(img_path)\n",
        "  img=cv2.resize(img,(75,75))\n",
        "  img=cv2.cvtColor(img,cv2.COLOR_BGR2RGB)\n",
        "  images.append(img)\n",
        "  labels.append(5)\n",
        "for image in pyramids_of_giza:\n",
        "  img_path=os.path.join(pyramids_of_giza_folder_path,image)\n",
        "  img=cv2.imread(img_path)\n",
        "  img=cv2.resize(img,(75,75))\n",
        "  img=cv2.cvtColor(img,cv2.COLOR_BGR2RGB)\n",
        "  images.append(img)\n",
        "  labels.append(6)\n",
        "for image in roman_colosseum:\n",
        "  img_path=os.path.join(roman_colosseum_folder_path,image)\n",
        "  img=cv2.imread(img_path)\n",
        "  img=cv2.resize(img,(75,75))\n",
        "  img=cv2.cvtColor(img,cv2.COLOR_BGR2RGB)\n",
        "  images.append(img)\n",
        "  labels.append(7)\n",
        "for image in statue_of_liberty:\n",
        "  img_path=os.path.join(statue_of_liberty_folder_path,image)\n",
        "  img=cv2.imread(img_path)\n",
        "  img=cv2.resize(img,(75,75))\n",
        "  img=cv2.cvtColor(img,cv2.COLOR_BGR2RGB)\n",
        "  images.append(img)\n",
        "  labels.append(8)\n",
        "for image in stonehenge:\n",
        "  img_path=os.path.join(stonehenge_folder_path,image)\n",
        "  img=cv2.imread(img_path)\n",
        "  img=cv2.resize(img,(75,75))\n",
        "  img=cv2.cvtColor(img,cv2.COLOR_BGR2RGB)\n",
        "  images.append(img)\n",
        "  labels.append(9)\n",
        "for image in taj_mahal:\n",
        "  img_path=os.path.join(taj_mahal_folder_path,image)\n",
        "  img=cv2.imread(img_path)\n",
        "  img=cv2.resize(img,(75,75))\n",
        "  img=cv2.cvtColor(img,cv2.COLOR_BGR2RGB)\n",
        "  images.append(img)\n",
        "  labels.append(10)\n",
        "for image in venezula_angle_falls:\n",
        "  img_path=os.path.join(venezula_angle_falls_folder_path,image)\n",
        "  img=cv2.imread(img_path)\n",
        "  img=cv2.resize(img,(75,75))\n",
        "  img=cv2.cvtColor(img,cv2.COLOR_BGR2RGB)\n",
        "  images.append(img)\n",
        "  labels.append(11)\n"
      ],
      "metadata": {
        "id": "gGVxcvJNdACj"
      },
      "execution_count": 10,
      "outputs": []
    },
    {
      "cell_type": "code",
      "source": [
        "len(images)"
      ],
      "metadata": {
        "colab": {
          "base_uri": "https://localhost:8080/"
        },
        "id": "ZuN5ukWXmwJ7",
        "outputId": "2659b33f-594e-4727-f196-a2cd3912f38e"
      },
      "execution_count": 11,
      "outputs": [
        {
          "output_type": "execute_result",
          "data": {
            "text/plain": [
              "3846"
            ]
          },
          "metadata": {},
          "execution_count": 11
        }
      ]
    },
    {
      "cell_type": "code",
      "source": [
        "len(labels)"
      ],
      "metadata": {
        "colab": {
          "base_uri": "https://localhost:8080/"
        },
        "id": "Uaoc5vTsmzZp",
        "outputId": "cd346347-28db-4f90-951f-0af24acd69bb"
      },
      "execution_count": 12,
      "outputs": [
        {
          "output_type": "execute_result",
          "data": {
            "text/plain": [
              "3846"
            ]
          },
          "metadata": {},
          "execution_count": 12
        }
      ]
    },
    {
      "cell_type": "code",
      "source": [
        "X=np.array(images)\n",
        "y=np.array(labels)"
      ],
      "metadata": {
        "id": "kFLOXVnBm1rJ"
      },
      "execution_count": 13,
      "outputs": []
    },
    {
      "cell_type": "code",
      "source": [
        "from sklearn.model_selection import train_test_split\n",
        "X_train,X_test,y_train,y_test=train_test_split(X,y,test_size=0.2,random_state=101)"
      ],
      "metadata": {
        "id": "0iWsmz5am8BH"
      },
      "execution_count": 14,
      "outputs": []
    },
    {
      "cell_type": "code",
      "source": [
        "from tensorflow.keras.applications.inception_v3 import InceptionV3,preprocess_input\n",
        "from tensorflow.keras.layers import GlobalAveragePooling2D, Dense"
      ],
      "metadata": {
        "id": "Wp0NlagonPBN"
      },
      "execution_count": 15,
      "outputs": []
    },
    {
      "cell_type": "code",
      "source": [
        "from tensorflow.keras.models import Model"
      ],
      "metadata": {
        "id": "xzkj1NZon1qs"
      },
      "execution_count": 16,
      "outputs": []
    },
    {
      "cell_type": "code",
      "source": [
        "X_train=preprocess_input(X_train)\n",
        "X_test=preprocess_input(X_test)"
      ],
      "metadata": {
        "id": "YNt6Qr_nn__U"
      },
      "execution_count": 17,
      "outputs": []
    },
    {
      "cell_type": "code",
      "source": [
        "X_train.shape"
      ],
      "metadata": {
        "colab": {
          "base_uri": "https://localhost:8080/"
        },
        "id": "ZXXPWHQIoTGP",
        "outputId": "fe1f1333-9725-4340-822a-11a07585efd1"
      },
      "execution_count": 18,
      "outputs": [
        {
          "output_type": "execute_result",
          "data": {
            "text/plain": [
              "(3076, 75, 75, 3)"
            ]
          },
          "metadata": {},
          "execution_count": 18
        }
      ]
    },
    {
      "cell_type": "code",
      "source": [
        "inceptionV3model= InceptionV3(weights=\"imagenet\",include_top=False,input_shape=(75,75,3))"
      ],
      "metadata": {
        "colab": {
          "base_uri": "https://localhost:8080/"
        },
        "id": "PaUdJWH9oWRd",
        "outputId": "0dfb75a3-6d5d-40dd-becd-452d3999a036"
      },
      "execution_count": 19,
      "outputs": [
        {
          "output_type": "stream",
          "name": "stdout",
          "text": [
            "Downloading data from https://storage.googleapis.com/tensorflow/keras-applications/inception_v3/inception_v3_weights_tf_dim_ordering_tf_kernels_notop.h5\n",
            "87910968/87910968 [==============================] - 0s 0us/step\n"
          ]
        }
      ]
    },
    {
      "cell_type": "code",
      "source": [
        "cnn_part=inceptionV3model.output"
      ],
      "metadata": {
        "id": "n-YlLE9ro-a7"
      },
      "execution_count": 20,
      "outputs": []
    },
    {
      "cell_type": "code",
      "source": [
        "flattenpart=GlobalAveragePooling2D()(cnn_part)"
      ],
      "metadata": {
        "id": "m4L9LdxypJro"
      },
      "execution_count": 21,
      "outputs": []
    },
    {
      "cell_type": "code",
      "source": [
        "annpart = Dense(1924,activation = \"relu\")(flattenpart)\n",
        "hiddenlayer=annpart = Dense(1924,activation = \"relu\")(annpart)\n",
        "hiddenlayer = Dense(1924,activation = \"relu\")(hiddenlayer)\n",
        "outputlayer = Dense(12,activation = \"softmax\")(hiddenlayer)"
      ],
      "metadata": {
        "id": "AF3NPzXDpUFb"
      },
      "execution_count": 22,
      "outputs": []
    },
    {
      "cell_type": "code",
      "source": [
        "model = Model(inputs = inceptionV3model.input, outputs = outputlayer)"
      ],
      "metadata": {
        "id": "ET5rCc7Ip1Ej"
      },
      "execution_count": 23,
      "outputs": []
    },
    {
      "cell_type": "code",
      "source": [
        "model.compile(optimizer = \"adam\", loss = \"categorical_crossentropy\",metrics = [\"accuracy\"])"
      ],
      "metadata": {
        "id": "BzEKK5UKp_qz"
      },
      "execution_count": 24,
      "outputs": []
    },
    {
      "cell_type": "code",
      "source": [
        "y_train[:20]"
      ],
      "metadata": {
        "colab": {
          "base_uri": "https://localhost:8080/"
        },
        "id": "fHhY6rthqGYi",
        "outputId": "7d5d61c9-decf-4195-8ad1-1360191f688f"
      },
      "execution_count": 25,
      "outputs": [
        {
          "output_type": "execute_result",
          "data": {
            "text/plain": [
              "array([ 8, 10,  8,  8, 10,  6,  1,  5,  4,  5, 10,  3,  1,  4,  9,  2,  3,\n",
              "        0,  5,  2])"
            ]
          },
          "metadata": {},
          "execution_count": 25
        }
      ]
    },
    {
      "cell_type": "code",
      "source": [
        "from tensorflow.keras.utils import to_categorical"
      ],
      "metadata": {
        "id": "iXAOYZ0jq2jQ"
      },
      "execution_count": 26,
      "outputs": []
    },
    {
      "cell_type": "code",
      "source": [
        "y_train = to_categorical(y_train)\n",
        "y_test=to_categorical(y_test)\n"
      ],
      "metadata": {
        "id": "5ChEh_Ohq32p"
      },
      "execution_count": 27,
      "outputs": []
    },
    {
      "cell_type": "code",
      "source": [
        "model.fit(X_train,y_train, epochs = 100)"
      ],
      "metadata": {
        "colab": {
          "base_uri": "https://localhost:8080/"
        },
        "id": "FeMNa0URqP2U",
        "outputId": "63a6025e-317d-48ae-dc95-a9c3780b3dfe"
      },
      "execution_count": 28,
      "outputs": [
        {
          "output_type": "stream",
          "name": "stdout",
          "text": [
            "Epoch 1/100\n",
            "97/97 [==============================] - 49s 79ms/step - loss: 2.2140 - accuracy: 0.2461\n",
            "Epoch 2/100\n",
            "97/97 [==============================] - 5s 52ms/step - loss: 2.0441 - accuracy: 0.2770\n",
            "Epoch 3/100\n",
            "97/97 [==============================] - 5s 50ms/step - loss: 1.9242 - accuracy: 0.3319\n",
            "Epoch 4/100\n",
            "97/97 [==============================] - 7s 69ms/step - loss: 1.7726 - accuracy: 0.3748\n",
            "Epoch 5/100\n",
            "97/97 [==============================] - 5s 50ms/step - loss: 1.5971 - accuracy: 0.4155\n",
            "Epoch 6/100\n",
            "97/97 [==============================] - 6s 58ms/step - loss: 1.8504 - accuracy: 0.3550\n",
            "Epoch 7/100\n",
            "97/97 [==============================] - 5s 50ms/step - loss: 1.9061 - accuracy: 0.3518\n",
            "Epoch 8/100\n",
            "97/97 [==============================] - 5s 51ms/step - loss: 1.8905 - accuracy: 0.3469\n",
            "Epoch 9/100\n",
            "97/97 [==============================] - 6s 57ms/step - loss: 1.6918 - accuracy: 0.4184\n",
            "Epoch 10/100\n",
            "97/97 [==============================] - 5s 51ms/step - loss: 1.5227 - accuracy: 0.4711\n",
            "Epoch 11/100\n",
            "97/97 [==============================] - 6s 58ms/step - loss: 1.7093 - accuracy: 0.4164\n",
            "Epoch 12/100\n",
            "97/97 [==============================] - 5s 51ms/step - loss: 1.9720 - accuracy: 0.3261\n",
            "Epoch 13/100\n",
            "97/97 [==============================] - 5s 52ms/step - loss: 1.7321 - accuracy: 0.3895\n",
            "Epoch 14/100\n",
            "97/97 [==============================] - 5s 55ms/step - loss: 1.5886 - accuracy: 0.4633\n",
            "Epoch 15/100\n",
            "97/97 [==============================] - 5s 51ms/step - loss: 1.4380 - accuracy: 0.5215\n",
            "Epoch 16/100\n",
            "97/97 [==============================] - 6s 58ms/step - loss: 1.4507 - accuracy: 0.5172\n",
            "Epoch 17/100\n",
            "97/97 [==============================] - 5s 52ms/step - loss: 1.3530 - accuracy: 0.5501\n",
            "Epoch 18/100\n",
            "97/97 [==============================] - 5s 54ms/step - loss: 1.3370 - accuracy: 0.5572\n",
            "Epoch 19/100\n",
            "97/97 [==============================] - 5s 54ms/step - loss: 1.2829 - accuracy: 0.5803\n",
            "Epoch 20/100\n",
            "97/97 [==============================] - 5s 51ms/step - loss: 1.2066 - accuracy: 0.6008\n",
            "Epoch 21/100\n",
            "97/97 [==============================] - 6s 61ms/step - loss: 1.2528 - accuracy: 0.5842\n",
            "Epoch 22/100\n",
            "97/97 [==============================] - 5s 52ms/step - loss: 1.2340 - accuracy: 0.5943\n",
            "Epoch 23/100\n",
            "97/97 [==============================] - 6s 59ms/step - loss: 1.4781 - accuracy: 0.5124\n",
            "Epoch 24/100\n",
            "97/97 [==============================] - 5s 51ms/step - loss: 2.0090 - accuracy: 0.3124\n",
            "Epoch 25/100\n",
            "97/97 [==============================] - 5s 51ms/step - loss: 1.8964 - accuracy: 0.3407\n",
            "Epoch 26/100\n",
            "97/97 [==============================] - 6s 59ms/step - loss: 1.8728 - accuracy: 0.3576\n",
            "Epoch 27/100\n",
            "97/97 [==============================] - 5s 52ms/step - loss: 1.8865 - accuracy: 0.3622\n",
            "Epoch 28/100\n",
            "97/97 [==============================] - 6s 59ms/step - loss: 1.8522 - accuracy: 0.3745\n",
            "Epoch 29/100\n",
            "97/97 [==============================] - 5s 52ms/step - loss: 1.6643 - accuracy: 0.4200\n",
            "Epoch 30/100\n",
            "97/97 [==============================] - 5s 54ms/step - loss: 1.7348 - accuracy: 0.4028\n",
            "Epoch 31/100\n",
            "97/97 [==============================] - 5s 56ms/step - loss: 1.6895 - accuracy: 0.4093\n",
            "Epoch 32/100\n",
            "97/97 [==============================] - 5s 52ms/step - loss: 1.5731 - accuracy: 0.4681\n",
            "Epoch 33/100\n",
            "97/97 [==============================] - 6s 59ms/step - loss: 1.5827 - accuracy: 0.4525\n",
            "Epoch 34/100\n",
            "97/97 [==============================] - 5s 52ms/step - loss: 1.6549 - accuracy: 0.4399\n",
            "Epoch 35/100\n",
            "97/97 [==============================] - 6s 58ms/step - loss: 1.5081 - accuracy: 0.4909\n",
            "Epoch 36/100\n",
            "97/97 [==============================] - 5s 52ms/step - loss: 1.3653 - accuracy: 0.5312\n",
            "Epoch 37/100\n",
            "97/97 [==============================] - 5s 52ms/step - loss: 1.3163 - accuracy: 0.5543\n",
            "Epoch 38/100\n",
            "97/97 [==============================] - 6s 59ms/step - loss: 1.4076 - accuracy: 0.5257\n",
            "Epoch 39/100\n",
            "97/97 [==============================] - 5s 52ms/step - loss: 1.5957 - accuracy: 0.4607\n",
            "Epoch 40/100\n",
            "97/97 [==============================] - 6s 59ms/step - loss: 1.4558 - accuracy: 0.4873\n",
            "Epoch 41/100\n",
            "97/97 [==============================] - 5s 52ms/step - loss: 1.6204 - accuracy: 0.4512\n",
            "Epoch 42/100\n",
            "97/97 [==============================] - 5s 56ms/step - loss: 1.3726 - accuracy: 0.5380\n",
            "Epoch 43/100\n",
            "97/97 [==============================] - 5s 55ms/step - loss: 1.2646 - accuracy: 0.5871\n",
            "Epoch 44/100\n",
            "97/97 [==============================] - 5s 52ms/step - loss: 1.4022 - accuracy: 0.5270\n",
            "Epoch 45/100\n",
            "97/97 [==============================] - 6s 59ms/step - loss: 1.1876 - accuracy: 0.6131\n",
            "Epoch 46/100\n",
            "97/97 [==============================] - 5s 52ms/step - loss: 1.6529 - accuracy: 0.4691\n",
            "Epoch 47/100\n",
            "97/97 [==============================] - 7s 68ms/step - loss: 1.6642 - accuracy: 0.4184\n",
            "Epoch 48/100\n",
            "97/97 [==============================] - 6s 60ms/step - loss: 1.5024 - accuracy: 0.4925\n",
            "Epoch 49/100\n",
            "97/97 [==============================] - 5s 52ms/step - loss: 1.5025 - accuracy: 0.4964\n",
            "Epoch 50/100\n",
            "97/97 [==============================] - 6s 60ms/step - loss: 1.8157 - accuracy: 0.3813\n",
            "Epoch 51/100\n",
            "97/97 [==============================] - 5s 53ms/step - loss: 1.5176 - accuracy: 0.4935\n",
            "Epoch 52/100\n",
            "97/97 [==============================] - 6s 58ms/step - loss: 1.6787 - accuracy: 0.4509\n",
            "Epoch 53/100\n",
            "97/97 [==============================] - 5s 52ms/step - loss: 1.7565 - accuracy: 0.4155\n",
            "Epoch 54/100\n",
            "97/97 [==============================] - 5s 56ms/step - loss: 1.8927 - accuracy: 0.3248\n",
            "Epoch 55/100\n",
            "97/97 [==============================] - 5s 55ms/step - loss: 2.0197 - accuracy: 0.2949\n",
            "Epoch 56/100\n",
            "97/97 [==============================] - 5s 52ms/step - loss: 1.7398 - accuracy: 0.3914\n",
            "Epoch 57/100\n",
            "97/97 [==============================] - 6s 59ms/step - loss: 1.5566 - accuracy: 0.4555\n",
            "Epoch 58/100\n",
            "97/97 [==============================] - 5s 52ms/step - loss: 1.4496 - accuracy: 0.4951\n",
            "Epoch 59/100\n",
            "97/97 [==============================] - 6s 60ms/step - loss: 1.5760 - accuracy: 0.4616\n",
            "Epoch 60/100\n",
            "97/97 [==============================] - 5s 52ms/step - loss: 1.3652 - accuracy: 0.5332\n",
            "Epoch 61/100\n",
            "97/97 [==============================] - 5s 54ms/step - loss: 1.2366 - accuracy: 0.5735\n",
            "Epoch 62/100\n",
            "97/97 [==============================] - 6s 60ms/step - loss: 1.1932 - accuracy: 0.5917\n",
            "Epoch 63/100\n",
            "97/97 [==============================] - 5s 52ms/step - loss: 1.2860 - accuracy: 0.5523\n",
            "Epoch 64/100\n",
            "97/97 [==============================] - 6s 60ms/step - loss: 1.1857 - accuracy: 0.5901\n",
            "Epoch 65/100\n",
            "97/97 [==============================] - 5s 53ms/step - loss: 1.1900 - accuracy: 0.5979\n",
            "Epoch 66/100\n",
            "97/97 [==============================] - 6s 59ms/step - loss: 1.0930 - accuracy: 0.6304\n",
            "Epoch 67/100\n",
            "97/97 [==============================] - 5s 55ms/step - loss: 1.4096 - accuracy: 0.5085\n",
            "Epoch 68/100\n",
            "97/97 [==============================] - 5s 55ms/step - loss: 1.1746 - accuracy: 0.5868\n",
            "Epoch 69/100\n",
            "97/97 [==============================] - 6s 60ms/step - loss: 1.2111 - accuracy: 0.5933\n",
            "Epoch 70/100\n",
            "97/97 [==============================] - 5s 54ms/step - loss: 1.1684 - accuracy: 0.6213\n",
            "Epoch 71/100\n",
            "97/97 [==============================] - 6s 58ms/step - loss: 1.1408 - accuracy: 0.6291\n",
            "Epoch 72/100\n",
            "97/97 [==============================] - 5s 53ms/step - loss: 1.2665 - accuracy: 0.5910\n",
            "Epoch 73/100\n",
            "97/97 [==============================] - 6s 58ms/step - loss: 1.3678 - accuracy: 0.5426\n",
            "Epoch 74/100\n",
            "97/97 [==============================] - 5s 54ms/step - loss: 1.1462 - accuracy: 0.6187\n",
            "Epoch 75/100\n",
            "97/97 [==============================] - 5s 53ms/step - loss: 0.9916 - accuracy: 0.6664\n",
            "Epoch 76/100\n",
            "97/97 [==============================] - 6s 59ms/step - loss: 0.9803 - accuracy: 0.6791\n",
            "Epoch 77/100\n",
            "97/97 [==============================] - 5s 53ms/step - loss: 0.9025 - accuracy: 0.7003\n",
            "Epoch 78/100\n",
            "97/97 [==============================] - 6s 61ms/step - loss: 0.9609 - accuracy: 0.6944\n",
            "Epoch 79/100\n",
            "97/97 [==============================] - 5s 54ms/step - loss: 1.2010 - accuracy: 0.6174\n",
            "Epoch 80/100\n",
            "97/97 [==============================] - 6s 59ms/step - loss: 1.0739 - accuracy: 0.6476\n",
            "Epoch 81/100\n",
            "97/97 [==============================] - 5s 54ms/step - loss: 0.9202 - accuracy: 0.6960\n",
            "Epoch 82/100\n",
            "97/97 [==============================] - 5s 52ms/step - loss: 0.8430 - accuracy: 0.7282\n",
            "Epoch 83/100\n",
            "97/97 [==============================] - 6s 60ms/step - loss: 0.8040 - accuracy: 0.7389\n",
            "Epoch 84/100\n",
            "97/97 [==============================] - 5s 53ms/step - loss: 0.7551 - accuracy: 0.7646\n",
            "Epoch 85/100\n",
            "97/97 [==============================] - 6s 60ms/step - loss: 0.7820 - accuracy: 0.7445\n",
            "Epoch 86/100\n",
            "97/97 [==============================] - 5s 52ms/step - loss: 0.7192 - accuracy: 0.7633\n",
            "Epoch 87/100\n",
            "97/97 [==============================] - 5s 56ms/step - loss: 0.7116 - accuracy: 0.7646\n",
            "Epoch 88/100\n",
            "97/97 [==============================] - 5s 55ms/step - loss: 0.6794 - accuracy: 0.7841\n",
            "Epoch 89/100\n",
            "97/97 [==============================] - 5s 52ms/step - loss: 0.6312 - accuracy: 0.7994\n",
            "Epoch 90/100\n",
            "97/97 [==============================] - 6s 59ms/step - loss: 0.5892 - accuracy: 0.8079\n",
            "Epoch 91/100\n",
            "97/97 [==============================] - 5s 52ms/step - loss: 0.5873 - accuracy: 0.8062\n",
            "Epoch 92/100\n",
            "97/97 [==============================] - 6s 59ms/step - loss: 0.7604 - accuracy: 0.7520\n",
            "Epoch 93/100\n",
            "97/97 [==============================] - 5s 52ms/step - loss: 0.9866 - accuracy: 0.6730\n",
            "Epoch 94/100\n",
            "97/97 [==============================] - 5s 54ms/step - loss: 0.8048 - accuracy: 0.7399\n",
            "Epoch 95/100\n",
            "97/97 [==============================] - 6s 58ms/step - loss: 0.7274 - accuracy: 0.7702\n",
            "Epoch 96/100\n",
            "97/97 [==============================] - 5s 52ms/step - loss: 0.7351 - accuracy: 0.7676\n",
            "Epoch 97/100\n",
            "97/97 [==============================] - 6s 59ms/step - loss: 0.6123 - accuracy: 0.8046\n",
            "Epoch 98/100\n",
            "97/97 [==============================] - 5s 52ms/step - loss: 0.6173 - accuracy: 0.8069\n",
            "Epoch 99/100\n",
            "97/97 [==============================] - 6s 57ms/step - loss: 0.7413 - accuracy: 0.7604\n",
            "Epoch 100/100\n",
            "97/97 [==============================] - 5s 54ms/step - loss: 0.7207 - accuracy: 0.7682\n"
          ]
        },
        {
          "output_type": "execute_result",
          "data": {
            "text/plain": [
              "<keras.src.callbacks.History at 0x7fee80081120>"
            ]
          },
          "metadata": {},
          "execution_count": 28
        }
      ]
    },
    {
      "cell_type": "code",
      "source": [
        "image = X_train[93]\n",
        "\n",
        "# Convert the image to RGB format\n",
        "image_rgb = cv2.cvtColor(image, cv2.COLOR_BGR2RGB)\n",
        "\n",
        "# Display the image using Matplotlib\n",
        "plt.figure(figsize=(4, 4))\n",
        "plt.imshow(image_rgb)\n",
        "plt.axis('off')\n",
        "plt.show()\n"
      ],
      "metadata": {
        "colab": {
          "base_uri": "https://localhost:8080/",
          "height": 362
        },
        "id": "L1F5RIttt68Z",
        "outputId": "3af0ef81-28de-4203-c081-08099c9ebe2d"
      },
      "execution_count": 43,
      "outputs": [
        {
          "output_type": "stream",
          "name": "stderr",
          "text": [
            "WARNING:matplotlib.image:Clipping input data to the valid range for imshow with RGB data ([0..1] for floats or [0..255] for integers).\n"
          ]
        },
        {
          "output_type": "display_data",
          "data": {
            "text/plain": [
              "<Figure size 400x400 with 1 Axes>"
            ],
            "image/png": "[encoded data removed]"
          },
          "metadata": {}
        }
      ]
    },
    {
      "cell_type": "code",
      "source": [
        "model.evaluate(X_test,y_test)"
      ],
      "metadata": {
        "colab": {
          "base_uri": "https://localhost:8080/"
        },
        "id": "ZELcm8JmuEAf",
        "outputId": "f0221ace-f452-46a5-aa16-f1533ba15668"
      },
      "execution_count": 30,
      "outputs": [
        {
          "output_type": "stream",
          "name": "stdout",
          "text": [
            "25/25 [==============================] - 3s 55ms/step - loss: 1.9236 - accuracy: 0.4312\n"
          ]
        },
        {
          "output_type": "execute_result",
          "data": {
            "text/plain": [
              "[1.9235944747924805, 0.4311688244342804]"
            ]
          },
          "metadata": {},
          "execution_count": 30
        }
      ]
    },
    {
      "cell_type": "code",
      "source": [
        "resized_image = cv2.resize(image, (75, 75))\n",
        "resized_image = np.expand_dims(resized_image, axis=0)"
      ],
      "metadata": {
        "id": "-zj796AquSkc"
      },
      "execution_count": 44,
      "outputs": []
    },
    {
      "cell_type": "code",
      "source": [
        "output = model.predict(resized_image)"
      ],
      "metadata": {
        "colab": {
          "base_uri": "https://localhost:8080/"
        },
        "id": "WSIIC6S2uUA8",
        "outputId": "74c62df3-acd6-4b51-83b0-42b5402e7302"
      },
      "execution_count": 45,
      "outputs": [
        {
          "output_type": "stream",
          "name": "stdout",
          "text": [
            "1/1 [==============================] - 0s 25ms/step\n"
          ]
        }
      ]
    },
    {
      "cell_type": "code",
      "source": [
        "class_labels=['burj_khalifa','chichen_itza','christ_the_reedemer','eiffel_tower','great_wall_of_china',\n",
        "              'machu_pichu' ,'pyramids_of_giza' ,'roman_colosseum','statue_of_liberty', 'stonehenge', 'taj_mahal' ,'venezuela_angel_falls']"
      ],
      "metadata": {
        "id": "m_SWt1OEuXJo"
      },
      "execution_count": 46,
      "outputs": []
    },
    {
      "cell_type": "code",
      "source": [
        "class_labels"
      ],
      "metadata": {
        "id": "JRtrHB_YLM7L",
        "outputId": "a7af7298-0d44-4927-de53-5da3f5787980",
        "colab": {
          "base_uri": "https://localhost:8080/"
        }
      },
      "execution_count": 40,
      "outputs": [
        {
          "output_type": "execute_result",
          "data": {
            "text/plain": [
              "['burj_khalifa',\n",
              " 'chichen_itza',\n",
              " 'christ_the_reedemer',\n",
              " 'eiffel_tower',\n",
              " 'great_wall_of_china',\n",
              " 'machu_pichu',\n",
              " 'pyramids_of_giza',\n",
              " 'roman_colosseum',\n",
              " 'statue_of_liberty',\n",
              " 'stonehenge',\n",
              " 'taj_mahal',\n",
              " 'venezuela_angel_falls']"
            ]
          },
          "metadata": {},
          "execution_count": 40
        }
      ]
    },
    {
      "cell_type": "code",
      "source": [],
      "metadata": {
        "id": "dXsxvIAzuown"
      },
      "execution_count": 34,
      "outputs": []
    },
    {
      "cell_type": "code",
      "source": [
        "labelindex=np.argmax(output)"
      ],
      "metadata": {
        "id": "C3v0fHmkuwUH"
      },
      "execution_count": 47,
      "outputs": []
    },
    {
      "cell_type": "code",
      "source": [
        "class_labels[labelindex]"
      ],
      "metadata": {
        "colab": {
          "base_uri": "https://localhost:8080/",
          "height": 36
        },
        "id": "bvt-ybFsu0qT",
        "outputId": "40ea1b00-7aab-45f7-b284-7fd21ecf866d"
      },
      "execution_count": 48,
      "outputs": [
        {
          "output_type": "execute_result",
          "data": {
            "text/plain": [
              "'taj_mahal'"
            ],
            "application/vnd.google.colaboratory.intrinsic+json": {
              "type": "string"
            }
          },
          "metadata": {},
          "execution_count": 48
        }
      ]
    }
  ]
}